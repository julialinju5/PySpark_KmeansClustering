{
 "cells": [
  {
   "cell_type": "code",
   "execution_count": 1,
   "metadata": {},
   "outputs": [],
   "source": [
    "import os\n",
    "from sklearn.utils import shuffle\n",
    "import pyspark\n",
    "from pyspark import SparkContext\n",
    "from pyspark.sql import SQLContext\n",
    "from pyspark.sql import SparkSession\n",
    "import pyspark.sql.functions as f\n",
    "from pyspark.sql.functions import col, split\n",
    "from pyspark.sql.types import StructField, StructType, FloatType, IntegerType, Row, DoubleType, StringType, ArrayType\n",
    "\n",
    "import matplotlib.pyplot as plt\n",
    "import pandas as pd\n",
    "import numpy as np\n",
    "import pickle\n",
    "\n",
    "%matplotlib inline"
   ]
  },
  {
   "cell_type": "markdown",
   "metadata": {},
   "source": [
    "## 0. Setup"
   ]
  },
  {
   "cell_type": "code",
   "execution_count": 2,
   "metadata": {},
   "outputs": [
    {
     "name": "stdout",
     "output_type": "stream",
     "text": [
      "<module 'pyspark.version' from '/usr/local/lib/python3.6/dist-packages/pyspark/version.py'>\n"
     ]
    }
   ],
   "source": [
    "print (pyspark.version)"
   ]
  },
  {
   "cell_type": "code",
   "execution_count": 3,
   "metadata": {},
   "outputs": [
    {
     "name": "stdout",
     "output_type": "stream",
     "text": [
      "2.3.2\n",
      "<module 'pyspark.version' from '/usr/local/lib/python3.6/dist-packages/pyspark/version.py'>\n"
     ]
    },
    {
     "data": {
      "text/plain": [
       "dict_items([('spark.app.name', 'Spark Data Exploration')])"
      ]
     },
     "execution_count": 3,
     "metadata": {},
     "output_type": "execute_result"
    }
   ],
   "source": [
    "conf = pyspark.SparkConf().setAll([('spark.app.name', 'Spark Data Exploration')])\n",
    "spark = SparkSession.builder.config(conf=conf).getOrCreate()\n",
    "\n",
    "print (spark.version)\n",
    "print (pyspark.version)\n",
    "\n",
    "conf.getAll()"
   ]
  },
  {
   "cell_type": "markdown",
   "metadata": {},
   "source": [
    "## 1. Load and prep data"
   ]
  },
  {
   "cell_type": "code",
   "execution_count": 4,
   "metadata": {},
   "outputs": [],
   "source": [
    "fpathA = 'ecommerce/customer_reviews_dataset.csv' \n",
    "fpathB = 'ecommerce/orders_dataset.csv' \n",
    "fpathC = 'ecommerce/geolocation_dataset.csv' \n",
    "fpathD = 'ecommerce/order_items_dataset.csv' \n",
    "fpathE = 'ecommerce/customers_dataset.csv' \n",
    "#fpathF = 'ecommerce/order_payments_dataset.csv' \n",
    "fpathG = 'ecommerce/product_category_name_translation.csv' \n",
    "fpathH = 'ecommerce/products_dataset.csv' \n",
    "fpathI = 'ecommerce/sellers_dataset.csv' \n",
    "\n",
    "df_review = spark.read.csv(fpathA, header=True, inferSchema=True).cache()\n",
    "df_order = spark.read.csv(fpathB, header=True, inferSchema=True).cache()\n",
    "df_geo = spark.read.csv(fpathC, header=True, inferSchema=True).cache()\n",
    "df_order_items = spark.read.csv(fpathD, header=True, inferSchema=True).cache()\n",
    "df_customer = spark.read.csv(fpathE, header=True, inferSchema=True).cache()\n",
    "#df_order_payment = spark.read.csv(fpathF, header=True, inferSchema=True).cache()\n",
    "df_cat_translate = spark.read.csv(fpathG, header=True, inferSchema=True).cache()\n",
    "df_product = spark.read.csv(fpathH, header=True, inferSchema=True).cache()\n",
    "df_seller = spark.read.csv(fpathI, header=True, inferSchema=True).cache()"
   ]
  },
  {
   "cell_type": "code",
   "execution_count": 5,
   "metadata": {},
   "outputs": [],
   "source": [
    "# variable selection\n",
    "df_review = df_review.select(['survey_score', 'order_id'])\n",
    "df_order = df_order.select(['order_id', 'customer_id'])\n",
    "df_customer = df_customer.select(['customer_id',  'customer_state'])\n",
    "df_order_items = df_order_items.select(['order_id', 'product_id', 'price', 'seller_id'])\n",
    "df_seller = df_seller.select(['seller_id', 'seller_state'])\n",
    "df_product = df_product.select(['product_id', 'product_category_name', 'product_photos_qty'])\n",
    "df_cat_translate = df_cat_translate.select(['product_category_name', 'product_category_name_english'])"
   ]
  },
  {
   "cell_type": "code",
   "execution_count": 6,
   "metadata": {},
   "outputs": [
    {
     "name": "stdout",
     "output_type": "stream",
     "text": [
      "+------------+--------------------+\n",
      "|survey_score|            order_id|\n",
      "+------------+--------------------+\n",
      "|           4|73fc7af87114b3971...|\n",
      "|           5|a548910a1c6147796...|\n",
      "|           5|f9e4b658b201a9f2e...|\n",
      "|           5|658677c97b385a9be...|\n",
      "|           5|8e6bfb81e283fa7e4...|\n",
      "+------------+--------------------+\n",
      "only showing top 5 rows\n",
      "\n"
     ]
    }
   ],
   "source": [
    "df_review.show(5)"
   ]
  },
  {
   "cell_type": "code",
   "execution_count": 7,
   "metadata": {},
   "outputs": [
    {
     "name": "stdout",
     "output_type": "stream",
     "text": [
      "+------------+--------------------+--------------------+\n",
      "|survey_score|            order_id|         customer_id|\n",
      "+------------+--------------------+--------------------+\n",
      "|           4|73fc7af87114b3971...|41dcb106f807e9935...|\n",
      "|           5|a548910a1c6147796...|8a2e7ef9053dea531...|\n",
      "|           5|f9e4b658b201a9f2e...|e226dfed6544df5b7...|\n",
      "|           5|658677c97b385a9be...|de6dff97e5f1ba84a...|\n",
      "|           5|8e6bfb81e283fa7e4...|5986b333ca0d44534...|\n",
      "+------------+--------------------+--------------------+\n",
      "only showing top 5 rows\n",
      "\n"
     ]
    },
    {
     "data": {
      "text/plain": [
       "100000"
      ]
     },
     "execution_count": 7,
     "metadata": {},
     "output_type": "execute_result"
    }
   ],
   "source": [
    "# join tables: df_review, df_orders\n",
    "df_merge = df_review.join(df_order, df_order.order_id == df_review.order_id, 'left_outer').drop(df_order.order_id).dropna(how='any')\n",
    "df_merge.show(5)\n",
    "df_merge.count()"
   ]
  },
  {
   "cell_type": "code",
   "execution_count": 8,
   "metadata": {},
   "outputs": [
    {
     "name": "stdout",
     "output_type": "stream",
     "text": [
      "+------------+--------------------+--------------------+--------------+\n",
      "|survey_score|            order_id|         customer_id|customer_state|\n",
      "+------------+--------------------+--------------------+--------------+\n",
      "|           4|73fc7af87114b3971...|41dcb106f807e9935...|            SP|\n",
      "|           5|a548910a1c6147796...|8a2e7ef9053dea531...|            SP|\n",
      "|           5|f9e4b658b201a9f2e...|e226dfed6544df5b7...|            BA|\n",
      "|           5|658677c97b385a9be...|de6dff97e5f1ba84a...|            SC|\n",
      "|           5|8e6bfb81e283fa7e4...|5986b333ca0d44534...|            SC|\n",
      "+------------+--------------------+--------------------+--------------+\n",
      "only showing top 5 rows\n",
      "\n"
     ]
    },
    {
     "data": {
      "text/plain": [
       "100000"
      ]
     },
     "execution_count": 8,
     "metadata": {},
     "output_type": "execute_result"
    }
   ],
   "source": [
    "# join tables: temp1, df_customer\n",
    "df_merge = df_merge.join(df_customer, df_merge.customer_id == df_customer.customer_id, 'left_outer').drop(df_customer.customer_id).dropna(how='any')\n",
    "df_merge.show(5)\n",
    "df_merge.count()"
   ]
  },
  {
   "cell_type": "code",
   "execution_count": 9,
   "metadata": {},
   "outputs": [
    {
     "name": "stdout",
     "output_type": "stream",
     "text": [
      "+------------+--------------------+--------------------+--------------+--------------------+------+--------------------+\n",
      "|survey_score|            order_id|         customer_id|customer_state|          product_id| price|           seller_id|\n",
      "+------------+--------------------+--------------------+--------------+--------------------+------+--------------------+\n",
      "|           5|014405982914c2cde...|2de342d6e5905a5a8...|            RJ|6782d593f63105318...|  27.9|325f3178fb58e2a97...|\n",
      "|           5|014405982914c2cde...|2de342d6e5905a5a8...|            RJ|e95ee6822b66ac605...| 21.33|a17f621c590ea0fab...|\n",
      "|           5|019886de8f385a39b...|8cf88d7ba142365ef...|            MS|e9a69340883a438c3...| 159.9|1b4c3a6f53068f0b6...|\n",
      "|           3|01a6ad782455876aa...|71accffbcbdf8e02f...|            RS|036734b5a58d5d4f4...| 34.99|ea8482cd71df3c196...|\n",
      "|           5|01d907b3e209269e1...|d02cc92f5e33eb58d...|            SP|b1434a8f79cb35285...|151.99|d1c281d3ae1492323...|\n",
      "+------------+--------------------+--------------------+--------------+--------------------+------+--------------------+\n",
      "only showing top 5 rows\n",
      "\n"
     ]
    },
    {
     "data": {
      "text/plain": [
       "113322"
      ]
     },
     "execution_count": 9,
     "metadata": {},
     "output_type": "execute_result"
    }
   ],
   "source": [
    "# join tables: temp1, df_order_items\n",
    "df_merge = df_merge.join(df_order_items, df_merge.order_id == df_order_items.order_id, 'left_outer').drop(df_order_items.order_id).dropna(how='any')\n",
    "df_merge.show(5)\n",
    "df_merge.count()"
   ]
  },
  {
   "cell_type": "code",
   "execution_count": 10,
   "metadata": {},
   "outputs": [
    {
     "name": "stdout",
     "output_type": "stream",
     "text": [
      "+------------+--------------------+--------------------+--------------+--------------------+------+--------------------+------------+\n",
      "|survey_score|            order_id|         customer_id|customer_state|          product_id| price|           seller_id|seller_state|\n",
      "+------------+--------------------+--------------------+--------------+--------------------+------+--------------------+------------+\n",
      "|           5|014405982914c2cde...|2de342d6e5905a5a8...|            RJ|6782d593f63105318...|  27.9|325f3178fb58e2a97...|          SP|\n",
      "|           5|014405982914c2cde...|2de342d6e5905a5a8...|            RJ|e95ee6822b66ac605...| 21.33|a17f621c590ea0fab...|          SP|\n",
      "|           5|019886de8f385a39b...|8cf88d7ba142365ef...|            MS|e9a69340883a438c3...| 159.9|1b4c3a6f53068f0b6...|          SC|\n",
      "|           3|01a6ad782455876aa...|71accffbcbdf8e02f...|            RS|036734b5a58d5d4f4...| 34.99|ea8482cd71df3c196...|          SP|\n",
      "|           5|01d907b3e209269e1...|d02cc92f5e33eb58d...|            SP|b1434a8f79cb35285...|151.99|d1c281d3ae1492323...|          SP|\n",
      "+------------+--------------------+--------------------+--------------+--------------------+------+--------------------+------------+\n",
      "only showing top 5 rows\n",
      "\n"
     ]
    },
    {
     "data": {
      "text/plain": [
       "113322"
      ]
     },
     "execution_count": 10,
     "metadata": {},
     "output_type": "execute_result"
    }
   ],
   "source": [
    "# join tables: temp1, df_seller\n",
    "df_merge = df_merge.join(df_seller, df_merge.seller_id == df_seller.seller_id, 'left_outer').drop(df_seller.seller_id).dropna(how='any')\n",
    "df_merge.show(5)\n",
    "df_merge.count()"
   ]
  },
  {
   "cell_type": "code",
   "execution_count": 11,
   "metadata": {},
   "outputs": [
    {
     "name": "stdout",
     "output_type": "stream",
     "text": [
      "+------------+--------------------+--------------------+--------------+--------------------+------+--------------------+------------+---------------------+------------------+\n",
      "|survey_score|            order_id|         customer_id|customer_state|          product_id| price|           seller_id|seller_state|product_category_name|product_photos_qty|\n",
      "+------------+--------------------+--------------------+--------------+--------------------+------+--------------------+------------+---------------------+------------------+\n",
      "|           5|014405982914c2cde...|2de342d6e5905a5a8...|            RJ|6782d593f63105318...|  27.9|325f3178fb58e2a97...|          SP|           perfumaria|                 1|\n",
      "|           5|014405982914c2cde...|2de342d6e5905a5a8...|            RJ|e95ee6822b66ac605...| 21.33|a17f621c590ea0fab...|          SP|        esporte_lazer|                 1|\n",
      "|           5|019886de8f385a39b...|8cf88d7ba142365ef...|            MS|e9a69340883a438c3...| 159.9|1b4c3a6f53068f0b6...|          SC| utilidades_domest...|                 5|\n",
      "|           3|01a6ad782455876aa...|71accffbcbdf8e02f...|            RS|036734b5a58d5d4f4...| 34.99|ea8482cd71df3c196...|          SP|            telefonia|                 5|\n",
      "|           5|01d907b3e209269e1...|d02cc92f5e33eb58d...|            SP|b1434a8f79cb35285...|151.99|d1c281d3ae1492323...|          SP|      cama_mesa_banho|                 1|\n",
      "+------------+--------------------+--------------------+--------------+--------------------+------+--------------------+------------+---------------------+------------------+\n",
      "only showing top 5 rows\n",
      "\n"
     ]
    },
    {
     "data": {
      "text/plain": [
       "111710"
      ]
     },
     "execution_count": 11,
     "metadata": {},
     "output_type": "execute_result"
    }
   ],
   "source": [
    "# join tables: temp1, df_product\n",
    "df_merge = df_merge.join(df_product, df_merge.product_id == df_product.product_id, 'left_outer').drop(df_product.product_id).dropna(how='any')\n",
    "df_merge.show(5)\n",
    "df_merge.count()"
   ]
  },
  {
   "cell_type": "code",
   "execution_count": 12,
   "metadata": {},
   "outputs": [
    {
     "name": "stdout",
     "output_type": "stream",
     "text": [
      "+------------+--------------------+--------------------+--------------+--------------------+------+--------------------+------------+---------------------+------------------+-----------------------------+\n",
      "|survey_score|            order_id|         customer_id|customer_state|          product_id| price|           seller_id|seller_state|product_category_name|product_photos_qty|product_category_name_english|\n",
      "+------------+--------------------+--------------------+--------------+--------------------+------+--------------------+------------+---------------------+------------------+-----------------------------+\n",
      "|           5|014405982914c2cde...|2de342d6e5905a5a8...|            RJ|6782d593f63105318...|  27.9|325f3178fb58e2a97...|          SP|           perfumaria|                 1|                    perfumery|\n",
      "|           5|014405982914c2cde...|2de342d6e5905a5a8...|            RJ|e95ee6822b66ac605...| 21.33|a17f621c590ea0fab...|          SP|        esporte_lazer|                 1|               sports_leisure|\n",
      "|           5|019886de8f385a39b...|8cf88d7ba142365ef...|            MS|e9a69340883a438c3...| 159.9|1b4c3a6f53068f0b6...|          SC| utilidades_domest...|                 5|                   housewares|\n",
      "|           3|01a6ad782455876aa...|71accffbcbdf8e02f...|            RS|036734b5a58d5d4f4...| 34.99|ea8482cd71df3c196...|          SP|            telefonia|                 5|                    telephony|\n",
      "|           5|01d907b3e209269e1...|d02cc92f5e33eb58d...|            SP|b1434a8f79cb35285...|151.99|d1c281d3ae1492323...|          SP|      cama_mesa_banho|                 1|               bed_bath_table|\n",
      "+------------+--------------------+--------------------+--------------+--------------------+------+--------------------+------------+---------------------+------------------+-----------------------------+\n",
      "only showing top 5 rows\n",
      "\n"
     ]
    },
    {
     "data": {
      "text/plain": [
       "111686"
      ]
     },
     "execution_count": 12,
     "metadata": {},
     "output_type": "execute_result"
    }
   ],
   "source": [
    "# join tables: temp1, df_cat_translate\n",
    "df_merge = df_merge.join(df_cat_translate, df_merge.product_category_name == df_cat_translate.product_category_name, 'left_outer')\\\n",
    ".drop(df_cat_translate.product_category_name).dropna(how='any')\n",
    "# final table\n",
    "df_merge.show(5)\n",
    "df_merge.count()"
   ]
  },
  {
   "cell_type": "markdown",
   "metadata": {},
   "source": [
    "## Describe data\n",
    "### To include: data quality issues, characteristics of the dataset (summary statistics, correlation, outliers, etc.)"
   ]
  },
  {
   "cell_type": "code",
   "execution_count": 13,
   "metadata": {},
   "outputs": [
    {
     "name": "stdout",
     "output_type": "stream",
     "text": [
      "root\n",
      " |-- survey_score: string (nullable = true)\n",
      " |-- order_id: string (nullable = true)\n",
      " |-- customer_id: string (nullable = true)\n",
      " |-- customer_state: string (nullable = true)\n",
      " |-- product_id: string (nullable = true)\n",
      " |-- price: double (nullable = true)\n",
      " |-- seller_id: string (nullable = true)\n",
      " |-- seller_state: string (nullable = true)\n",
      " |-- product_category_name: string (nullable = true)\n",
      " |-- product_photos_qty: integer (nullable = true)\n",
      " |-- product_category_name_english: string (nullable = true)\n",
      "\n"
     ]
    }
   ],
   "source": [
    "df_merge.printSchema()"
   ]
  },
  {
   "cell_type": "markdown",
   "metadata": {},
   "source": [
    "## Describe data preparation process\n",
    "\n",
    "### To include: features used, train and test datasets"
   ]
  },
  {
   "cell_type": "code",
   "execution_count": 18,
   "metadata": {},
   "outputs": [
    {
     "name": "stdout",
     "output_type": "stream",
     "text": [
      "root\n",
      " |-- survey_score: integer (nullable = true)\n",
      " |-- price: double (nullable = true)\n",
      " |-- product_category_name_english: string (nullable = true)\n",
      " |-- product_photos_qty: integer (nullable = true)\n",
      "\n",
      "% Null\n",
      "survey_score: 0.0000\n",
      "price: 0.0000\n",
      "product_category_name_english: 0.0000\n",
      "product_photos_qty: 0.0000\n"
     ]
    },
    {
     "data": {
      "text/plain": [
       "111686"
      ]
     },
     "execution_count": 18,
     "metadata": {},
     "output_type": "execute_result"
    }
   ],
   "source": [
    "sel_cols = ['survey_score', 'price', 'product_category_name_english', 'product_photos_qty']\n",
    "df_selected = df_merge.select(sel_cols)\n",
    "# transform survey_score to numeric\n",
    "from pyspark.sql.types import IntegerType\n",
    "df_merge = df_merge.withColumn(\"survey_score\", df_merge[\"survey_score\"].cast(IntegerType())).dropna(how='any')\n",
    "df_selected.printSchema()\n",
    "\n",
    "\n",
    "def null_percent(df, columns=None):\n",
    "    \"\"\"\n",
    "    Prints a sorted list of tuples (col_name, percent_null)\n",
    "    If you pass a list of column names, it'll only look for nulls in those specified.\n",
    "    Otherwise, it'll check all columns\n",
    "    \"\"\"\n",
    "    # calculate for all columns if none specified\n",
    "    if columns is None:\n",
    "        columns = df.columns\n",
    "        \n",
    "    n_samples = df.count()\n",
    "    \n",
    "    # a lambda for calculating percent, and another to format this value\n",
    "    percent_col_null = lambda colname: f.count(f.when(f.isnull(colname), colname)) * 100 / n_samples\n",
    "    percent_formatted = lambda colname: f.format_string(\"%2.4f\", percent_col_null(colname))\n",
    "\n",
    "    # use our lambdas to get a dict of columns and their null percentage\n",
    "    null_counts = df.select([percent_formatted(c).alias(c) for c in columns]).collect()[0].asDict()\n",
    "    sorted_counts = sorted([(k,v) for k,v in null_counts.items()], key=lambda tup: float(tup[1]))\n",
    "\n",
    "    print ('% Null')\n",
    "    for (colname, percent) in sorted_counts:\n",
    "        print(colname + ': ' + percent)\n",
    "    \n",
    "\n",
    "null_percent(df_selected) \n",
    "df_selected.count()"
   ]
  },
  {
   "cell_type": "code",
   "execution_count": 19,
   "metadata": {},
   "outputs": [
    {
     "name": "stdout",
     "output_type": "stream",
     "text": [
      "+------------+------+------------------+-----------------------------+-----------------+\n",
      "|survey_score| price|product_photos_qty|product_category_name_english|features_unscaled|\n",
      "+------------+------+------------------+-----------------------------+-----------------+\n",
      "|           5|  27.9|                 1|                    perfumery|   [5.0,27.9,1.0]|\n",
      "|           5| 21.33|                 1|               sports_leisure|  [5.0,21.33,1.0]|\n",
      "|           5| 159.9|                 5|                   housewares|  [5.0,159.9,5.0]|\n",
      "|           3| 34.99|                 5|                    telephony|  [3.0,34.99,5.0]|\n",
      "|           5|151.99|                 1|               bed_bath_table| [5.0,151.99,1.0]|\n",
      "+------------+------+------------------+-----------------------------+-----------------+\n",
      "only showing top 5 rows\n",
      "\n"
     ]
    }
   ],
   "source": [
    "from pyspark.ml.feature import VectorAssembler\n",
    "\n",
    "df = df_selected.select(['survey_score', 'price','product_photos_qty', 'product_category_name_english'])\n",
    "\n",
    "# Create a vector column composed of all the features\n",
    "feature_cols = ['survey_score',\n",
    " 'price',\n",
    " 'product_photos_qty']\n",
    "\n",
    "other_cols = ['product_category_name_english']\n",
    "\n",
    "assembler = VectorAssembler(inputCols=feature_cols, outputCol='features_unscaled')\n",
    "features_df = assembler.transform(df)\n",
    "\n",
    "features_df.show(5)"
   ]
  },
  {
   "cell_type": "code",
   "execution_count": 20,
   "metadata": {},
   "outputs": [],
   "source": [
    "from pyspark.ml.stat import Correlation\n",
    "\n",
    "# Get correlation DataFrame, collect and extract a pyspark.mllib.linalg.DenseMatrix, convert to array \n",
    "corr_mat = Correlation.corr(features_df, 'features_unscaled').collect()[0][0].toArray()"
   ]
  },
  {
   "cell_type": "code",
   "execution_count": 21,
   "metadata": {},
   "outputs": [
    {
     "data": {
      "text/html": [
       "<div>\n",
       "<style scoped>\n",
       "    .dataframe tbody tr th:only-of-type {\n",
       "        vertical-align: middle;\n",
       "    }\n",
       "\n",
       "    .dataframe tbody tr th {\n",
       "        vertical-align: top;\n",
       "    }\n",
       "\n",
       "    .dataframe thead th {\n",
       "        text-align: right;\n",
       "    }\n",
       "</style>\n",
       "<table border=\"1\" class=\"dataframe\">\n",
       "  <thead>\n",
       "    <tr style=\"text-align: right;\">\n",
       "      <th></th>\n",
       "      <th>survey_score</th>\n",
       "      <th>price</th>\n",
       "      <th>product_photos_qty</th>\n",
       "    </tr>\n",
       "  </thead>\n",
       "  <tbody>\n",
       "    <tr>\n",
       "      <th>survey_score</th>\n",
       "      <td>1.000000</td>\n",
       "      <td>-0.005109</td>\n",
       "      <td>0.022603</td>\n",
       "    </tr>\n",
       "    <tr>\n",
       "      <th>price</th>\n",
       "      <td>-0.005109</td>\n",
       "      <td>1.000000</td>\n",
       "      <td>0.051734</td>\n",
       "    </tr>\n",
       "    <tr>\n",
       "      <th>product_photos_qty</th>\n",
       "      <td>0.022603</td>\n",
       "      <td>0.051734</td>\n",
       "      <td>1.000000</td>\n",
       "    </tr>\n",
       "  </tbody>\n",
       "</table>\n",
       "</div>"
      ],
      "text/plain": [
       "                    survey_score     price  product_photos_qty\n",
       "survey_score            1.000000 -0.005109            0.022603\n",
       "price                  -0.005109  1.000000            0.051734\n",
       "product_photos_qty      0.022603  0.051734            1.000000"
      ]
     },
     "execution_count": 21,
     "metadata": {},
     "output_type": "execute_result"
    }
   ],
   "source": [
    "# Create Pandas DataFrame from correlation matrix\n",
    "corr_mat = pd.DataFrame(corr_mat, index=feature_cols, columns=feature_cols)\n",
    "corr_mat.head(len(feature_cols))"
   ]
  },
  {
   "cell_type": "code",
   "execution_count": 22,
   "metadata": {},
   "outputs": [
    {
     "data": {
      "image/png": "[encoded data removed]",
      "text/plain": [
       "<Figure size 720x720 with 2 Axes>"
      ]
     },
     "metadata": {
      "needs_background": "light"
     },
     "output_type": "display_data"
    }
   ],
   "source": [
    "import utils\n",
    "\n",
    "fig, ax = plt.subplots(figsize=(10,10))\n",
    "\n",
    "im, cbar = utils.heatmap(corr_mat, feature_cols, feature_cols, ax=ax,\n",
    "                         cmap=\"RdPu\", cbarlabel=\"Pearson Correlation\")\n",
    "\n",
    "texts = utils.annotate_heatmap(im, valfmt=\"{x:.1f}\")\n",
    "\n",
    "fig.tight_layout()\n",
    "plt.show()"
   ]
  },
  {
   "cell_type": "markdown",
   "metadata": {},
   "source": [
    "## Describe model\n",
    "\n",
    "### To include: input, setup, and output"
   ]
  },
  {
   "cell_type": "code",
   "execution_count": 23,
   "metadata": {},
   "outputs": [
    {
     "data": {
      "text/plain": [
       "(83464, 28222)"
      ]
     },
     "execution_count": 23,
     "metadata": {},
     "output_type": "execute_result"
    }
   ],
   "source": [
    "train_df, test_df = features_df.randomSplit([0.75, 0.25], seed=12345)\n",
    "train_df.count(), test_df.count()"
   ]
  },
  {
   "cell_type": "code",
   "execution_count": 24,
   "metadata": {},
   "outputs": [
    {
     "name": "stdout",
     "output_type": "stream",
     "text": [
      "+------------+-----+------------------+-----------------------------+-----------------+--------------------+\n",
      "|survey_score|price|product_photos_qty|product_category_name_english|features_unscaled|            features|\n",
      "+------------+-----+------------------+-----------------------------+-----------------+--------------------+\n",
      "|           1| 10.9|                 2|                   housewares|   [1.0,10.9,2.0]|[-2.1602277381078...|\n",
      "|           1| 12.9|                 1|               home_comfort_2|   [1.0,12.9,1.0]|[-2.1602277381078...|\n",
      "|           1| 29.9|                 3|         computers_accesso...|   [1.0,29.9,3.0]|[-2.1602277381078...|\n",
      "|           1| 29.9|                 3|         computers_accesso...|   [1.0,29.9,3.0]|[-2.1602277381078...|\n",
      "|           1|29.99|                 5|         fashion_bags_acce...|  [1.0,29.99,5.0]|[-2.1602277381078...|\n",
      "+------------+-----+------------------+-----------------------------+-----------------+--------------------+\n",
      "only showing top 5 rows\n",
      "\n",
      "+------------+-----+------------------+-----------------------------+-----------------+--------------------+\n",
      "|survey_score|price|product_photos_qty|product_category_name_english|features_unscaled|            features|\n",
      "+------------+-----+------------------+-----------------------------+-----------------+--------------------+\n",
      "|           1|29.99|                 2|                         auto|  [1.0,29.99,2.0]|[-2.1602277381078...|\n",
      "|           1| 38.4|                 1|              furniture_decor|   [1.0,38.4,1.0]|[-2.1602277381078...|\n",
      "|           1| 38.4|                 1|              furniture_decor|   [1.0,38.4,1.0]|[-2.1602277381078...|\n",
      "|           1| 45.0|                 1|              furniture_decor|   [1.0,45.0,1.0]|[-2.1602277381078...|\n",
      "|           1| 48.0|                 3|         computers_accesso...|   [1.0,48.0,3.0]|[-2.1602277381078...|\n",
      "+------------+-----+------------------+-----------------------------+-----------------+--------------------+\n",
      "only showing top 5 rows\n",
      "\n"
     ]
    }
   ],
   "source": [
    "from pyspark.ml.feature import StandardScaler\n",
    "\n",
    "scaler = StandardScaler(inputCol=\"features_unscaled\", outputCol=\"features\", withStd=True, withMean=True)\n",
    "scalerModel = scaler.fit(train_df)\n",
    "\n",
    "train_df = scalerModel.transform(train_df)\n",
    "test_df = scalerModel.transform(test_df)\n",
    "\n",
    "train_df.show(5)      \n",
    "test_df.show(5)        "
   ]
  },
  {
   "cell_type": "code",
   "execution_count": 25,
   "metadata": {},
   "outputs": [
    {
     "name": "stdout",
     "output_type": "stream",
     "text": [
      "Trying k from 3 to 7 with 41543 samples...\n",
      "\n",
      "Training for cluster size 3 \n",
      "......................WSSE = 36735.85973375827 \n",
      "Training for cluster size 4 \n",
      "......................WSSE = 33873.066177577784 \n",
      "Training for cluster size 5 \n",
      "......................WSSE = 30932.92333671759 \n",
      "Training for cluster size 6 \n",
      "......................WSSE = 29771.57655807155 \n",
      "Training for cluster size 7 \n",
      "......................WSSE = 28624.918133071184 \n"
     ]
    },
    {
     "data": {
      "image/png": "[encoded data removed]",
      "text/plain": [
       "<Figure size 1080x720 with 1 Axes>"
      ]
     },
     "metadata": {
      "needs_background": "light"
     },
     "output_type": "display_data"
    }
   ],
   "source": [
    "# Only need to run this once to find value(s) to try for k\n",
    "create_elbow_plot = True # Set to False if already know value for k\n",
    "\n",
    "if create_elbow_plot == True:\n",
    "    # lower the sample fraction to decrease fit time (with the risk of worse results)\n",
    "    sampled = train_df.sample(.5)\n",
    "\n",
    "    k_attempts = range(3,8)\n",
    "    print('Trying k from {} to {} with {} samples...\\n'.format(list(k_attempts)[0],\n",
    "                                                               list(k_attempts)[-1],\n",
    "                                                               sampled.count()))\n",
    "\n",
    "    wsseList = utils.elbow(sampled, k_attempts)\n",
    "    utils.elbow_plot(wsseList, k_attempts)"
   ]
  },
  {
   "cell_type": "code",
   "execution_count": 26,
   "metadata": {},
   "outputs": [],
   "source": [
    "from pyspark.ml.clustering import KMeans\n",
    "\n",
    "K = 5\n",
    "kmeans = KMeans(k=K, seed=42)\n",
    "model = kmeans.fit(train_df)"
   ]
  },
  {
   "cell_type": "code",
   "execution_count": 27,
   "metadata": {},
   "outputs": [
    {
     "name": "stdout",
     "output_type": "stream",
     "text": [
      "Train WSSSE = 77836.5966013004\n",
      "Test WSSSE = 24790.843064983692\n"
     ]
    }
   ],
   "source": [
    "# Compute WSSSE, though it isn't necessarily the best indicator of performance\n",
    "train_wssse = model.computeCost(train_df)\n",
    "test_wssse = model.computeCost(test_df)\n",
    "\n",
    "# Test WSSSE will naturally be lower, as the test set has less samples\n",
    "print(\"Train WSSSE = {}\".format(train_wssse))\n",
    "print(\"Test WSSSE = {}\".format(test_wssse))"
   ]
  },
  {
   "cell_type": "code",
   "execution_count": 28,
   "metadata": {},
   "outputs": [
    {
     "name": "stdout",
     "output_type": "stream",
     "text": [
      "+------------+-----+------------------+-----------------------------+-----------------+--------------------+----------+\n",
      "|survey_score|price|product_photos_qty|product_category_name_english|features_unscaled|            features|prediction|\n",
      "+------------+-----+------------------+-----------------------------+-----------------+--------------------+----------+\n",
      "|           1|29.99|                 2|                         auto|  [1.0,29.99,2.0]|[-2.1602277381078...|         0|\n",
      "|           1| 38.4|                 1|              furniture_decor|   [1.0,38.4,1.0]|[-2.1602277381078...|         0|\n",
      "|           1| 38.4|                 1|              furniture_decor|   [1.0,38.4,1.0]|[-2.1602277381078...|         0|\n",
      "|           1| 45.0|                 1|              furniture_decor|   [1.0,45.0,1.0]|[-2.1602277381078...|         0|\n",
      "|           1| 48.0|                 3|         computers_accesso...|   [1.0,48.0,3.0]|[-2.1602277381078...|         0|\n",
      "+------------+-----+------------------+-----------------------------+-----------------+--------------------+----------+\n",
      "only showing top 5 rows\n",
      "\n"
     ]
    }
   ],
   "source": [
    "train_preds_df = model.transform(train_df)\n",
    "test_preds_df = model.transform(test_df)\n",
    "\n",
    "test_preds_df.show(5)"
   ]
  },
  {
   "cell_type": "code",
   "execution_count": 29,
   "metadata": {},
   "outputs": [
    {
     "data": {
      "text/html": [
       "<div>\n",
       "<style scoped>\n",
       "    .dataframe tbody tr th:only-of-type {\n",
       "        vertical-align: middle;\n",
       "    }\n",
       "\n",
       "    .dataframe tbody tr th {\n",
       "        vertical-align: top;\n",
       "    }\n",
       "\n",
       "    .dataframe thead th {\n",
       "        text-align: right;\n",
       "    }\n",
       "</style>\n",
       "<table border=\"1\" class=\"dataframe\">\n",
       "  <thead>\n",
       "    <tr style=\"text-align: right;\">\n",
       "      <th></th>\n",
       "      <th>survey_score</th>\n",
       "      <th>price</th>\n",
       "      <th>product_photos_qty</th>\n",
       "      <th>prediction</th>\n",
       "    </tr>\n",
       "  </thead>\n",
       "  <tbody>\n",
       "    <tr>\n",
       "      <th>0</th>\n",
       "      <td>-2.010297</td>\n",
       "      <td>-0.103915</td>\n",
       "      <td>-0.252801</td>\n",
       "      <td>0</td>\n",
       "    </tr>\n",
       "    <tr>\n",
       "      <th>1</th>\n",
       "      <td>0.702185</td>\n",
       "      <td>-0.126313</td>\n",
       "      <td>-0.402383</td>\n",
       "      <td>1</td>\n",
       "    </tr>\n",
       "    <tr>\n",
       "      <th>2</th>\n",
       "      <td>0.048108</td>\n",
       "      <td>4.813576</td>\n",
       "      <td>0.232346</td>\n",
       "      <td>2</td>\n",
       "    </tr>\n",
       "    <tr>\n",
       "      <th>3</th>\n",
       "      <td>-0.235090</td>\n",
       "      <td>-0.132136</td>\n",
       "      <td>-0.398457</td>\n",
       "      <td>3</td>\n",
       "    </tr>\n",
       "    <tr>\n",
       "      <th>4</th>\n",
       "      <td>0.244829</td>\n",
       "      <td>-0.074261</td>\n",
       "      <td>1.817941</td>\n",
       "      <td>4</td>\n",
       "    </tr>\n",
       "  </tbody>\n",
       "</table>\n",
       "</div>"
      ],
      "text/plain": [
       "   survey_score     price  product_photos_qty  prediction\n",
       "0     -2.010297 -0.103915           -0.252801           0\n",
       "1      0.702185 -0.126313           -0.402383           1\n",
       "2      0.048108  4.813576            0.232346           2\n",
       "3     -0.235090 -0.132136           -0.398457           3\n",
       "4      0.244829 -0.074261            1.817941           4"
      ]
     },
     "execution_count": 29,
     "metadata": {},
     "output_type": "execute_result"
    }
   ],
   "source": [
    "cluster_centers = model.clusterCenters()\n",
    "\n",
    "# Convert list of centers to Pandas DataFrame. \n",
    "# Rows will be the cluster centers, columns will be the features\n",
    "centers_df_pd = utils.pd_centers(feature_cols, cluster_centers)\n",
    "centers_df_pd.head(len(cluster_centers))"
   ]
  },
  {
   "cell_type": "code",
   "execution_count": 30,
   "metadata": {},
   "outputs": [],
   "source": [
    "from pyspark.ml.linalg import Vectors, VectorUDT, Vector\n",
    "\n",
    "# Use a user defined function to map centroid list to a pyspark Vector\n",
    "# The outer function is for passing in the mapping so the UDF may access it\n",
    "# The inner function returns the UDF object and specifies its return type \n",
    "def get_centroid(mapping):\n",
    "    def get_centroid_(col):\n",
    "        return Vectors.dense(mapping.get(col))\n",
    "    return f.udf(get_centroid_, VectorUDT())\n",
    "\n",
    "# dictionary for mapping cluster ID to it's centroid in latent space\n",
    "centers_map = {i: list(cluster_centers[i]) for i in range(K)}"
   ]
  },
  {
   "cell_type": "code",
   "execution_count": 31,
   "metadata": {},
   "outputs": [
    {
     "name": "stdout",
     "output_type": "stream",
     "text": [
      "+--------------------+----------+--------------------+\n",
      "|            features|prediction|            centroid|\n",
      "+--------------------+----------+--------------------+\n",
      "|[-2.1602277381078...|         0|[-2.0102972238199...|\n",
      "|[-2.1602277381078...|         0|[-2.0102972238199...|\n",
      "|[-2.1602277381078...|         0|[-2.0102972238199...|\n",
      "|[-2.1602277381078...|         0|[-2.0102972238199...|\n",
      "|[-2.1602277381078...|         0|[-2.0102972238199...|\n",
      "+--------------------+----------+--------------------+\n",
      "only showing top 5 rows\n",
      "\n"
     ]
    }
   ],
   "source": [
    "# add 'centroid' column to train and test dataframes using UDF above\n",
    "train_preds_df = train_preds_df.withColumn(\"centroid\", get_centroid(centers_map)(f.col(\"prediction\")))\n",
    "test_preds_df = test_preds_df.withColumn(\"centroid\", get_centroid(centers_map)(f.col(\"prediction\")))\n",
    "\n",
    "test_preds_df.select(['features', 'prediction', 'centroid']).show(5)"
   ]
  },
  {
   "cell_type": "markdown",
   "metadata": {},
   "source": [
    "## Describe analysis results and insights gained\n",
    "\n",
    "### To include: discussion of results, actionable insights "
   ]
  },
  {
   "cell_type": "code",
   "execution_count": 32,
   "metadata": {},
   "outputs": [],
   "source": [
    "from pyspark.sql.types import FloatType\n",
    "from scipy.spatial import distance\n",
    "\n",
    "# Create a UDF to compute a new distance column\n",
    "def compute_distance(sample, center):\n",
    "    return float(distance.euclidean(sample, center))\n",
    "\n",
    "distance_udf = f.udf(compute_distance, FloatType())"
   ]
  },
  {
   "cell_type": "code",
   "execution_count": 33,
   "metadata": {},
   "outputs": [
    {
     "name": "stdout",
     "output_type": "stream",
     "text": [
      "+--------------------+----------+--------------------+---------+\n",
      "|            features|prediction|            centroid| distance|\n",
      "+--------------------+----------+--------------------+---------+\n",
      "|[-2.1602277381078...|         0|[-2.0102972238199...|2.2186656|\n",
      "|[-2.1602277381078...|         0|[-2.0102972238199...|2.3150191|\n",
      "|[-2.1602277381078...|         0|[-2.0102972238199...|2.3150191|\n",
      "|[-2.1602277381078...|         0|[-2.0102972238199...|2.3083992|\n",
      "|[-2.1602277381078...|         0|[-2.0102972238199...|2.2429996|\n",
      "+--------------------+----------+--------------------+---------+\n",
      "only showing top 5 rows\n",
      "\n"
     ]
    }
   ],
   "source": [
    "# Add column containing Euclidean distance from each point to its assigned cluster center\n",
    "\n",
    "train_preds_df = train_preds_df.withColumn('distance',\n",
    "                                           distance_udf(f.col('features'), f.col('prediction')))\n",
    "\n",
    "test_preds_df = test_preds_df.withColumn('distance', \n",
    "                                         distance_udf(f.col('features'), f.col('prediction')))\n",
    "\n",
    "test_preds_df.select(['features', 'prediction', 'centroid', 'distance']).show(5)"
   ]
  },
  {
   "cell_type": "code",
   "execution_count": 34,
   "metadata": {},
   "outputs": [
    {
     "data": {
      "image/png": "[encoded data removed]",
      "text/plain": [
       "<Figure size 432x288 with 1 Axes>"
      ]
     },
     "metadata": {
      "needs_background": "light"
     },
     "output_type": "display_data"
    },
    {
     "data": {
      "image/png": "[encoded data removed]",
      "text/plain": [
       "<Figure size 432x288 with 1 Axes>"
      ]
     },
     "metadata": {
      "needs_background": "light"
     },
     "output_type": "display_data"
    }
   ],
   "source": [
    "train_preds_df.select(\"prediction\").toPandas().hist()\n",
    "test_preds_df.select(\"prediction\").toPandas().hist(); # semi-colon supresses ugly return val output"
   ]
  },
  {
   "cell_type": "code",
   "execution_count": 35,
   "metadata": {},
   "outputs": [],
   "source": [
    "def pyspark_to_pandas(df, feature_names, vector_column='features', keep_columns=[]):\n",
    "    \"\"\"\n",
    "    Takes a pyspark dataframe and converts it to a pandas dataframe,\n",
    "    unpacking values from a specified Vector column into their own columns.\n",
    "    \n",
    "    args:\n",
    "        df            -- The Pyspark DataFrame to convert\n",
    "        feature_names -- List of column names corresponding to the values in\n",
    "                         the vector_column to be unpacked\n",
    "        vector_column -- the name of the column in the DataFrame containing\n",
    "                         the vector to unpack (typically 'features')\n",
    "        keep_columns  -- List of column names that you want to include in the\n",
    "                         Pandas DataFrame (other than the vector_column, which \n",
    "                         is implied)\n",
    "    returns: \n",
    "        A Pandas DataFrame containing all values from the 'vector_column' and \n",
    "        'keep_columns' from the given PySpark datataframe\n",
    "        \n",
    "    \"\"\"\n",
    "    \n",
    "    def vector_to_array(col):\n",
    "        def to_array_(v):\n",
    "            return v.toArray().tolist()\n",
    "        return f.udf(to_array_, ArrayType(DoubleType()))(col)\n",
    "\n",
    "    # select columns to keep, typically keep_columns + 'features'\n",
    "    keep_columns = keep_columns[:] + [vector_column]\n",
    "    df = df.select(keep_columns)\n",
    "\n",
    "    # transform Vector column into Array column (so we can break it up)\n",
    "    df = df.withColumn(\"feat_array\", vector_to_array(f.col(\"features\"))).drop('features')\n",
    "\n",
    "    # remove \"features\" column name from our list of columns to keep, since we dropped it above\n",
    "    keep_columns.remove('features')\n",
    "    \n",
    "    # break up the array values into their own column, also keeping keep_columns around\n",
    "    n_feat = len(feature_names)\n",
    "    array_columns = [df[\"feat_array\"][i] for i in range(n_feat)]\n",
    "    \n",
    "    clustered_data_pd = df.select(keep_columns + array_columns).toPandas()\n",
    "    \n",
    "    \n",
    "    # give names to the pandas df columns and return\n",
    "    clustered_data_pd.columns = keep_columns + feature_names\n",
    "    \n",
    "    print('Created Pandas DataFrame with columns:\\n\\t{}'.format(clustered_data_pd.columns.tolist()))\n",
    "    return clustered_data_pd"
   ]
  },
  {
   "cell_type": "code",
   "execution_count": 36,
   "metadata": {},
   "outputs": [
    {
     "name": "stdout",
     "output_type": "stream",
     "text": [
      "Created Pandas DataFrame with columns:\n",
      "\t['product_category_name_english', 'prediction', 'distance', 'centroid', 'survey_score', 'price', 'product_photos_qty']\n",
      "Created Pandas DataFrame with columns:\n",
      "\t['product_category_name_english', 'prediction', 'distance', 'centroid', 'survey_score', 'price', 'product_photos_qty']\n"
     ]
    },
    {
     "data": {
      "text/html": [
       "<div>\n",
       "<style scoped>\n",
       "    .dataframe tbody tr th:only-of-type {\n",
       "        vertical-align: middle;\n",
       "    }\n",
       "\n",
       "    .dataframe tbody tr th {\n",
       "        vertical-align: top;\n",
       "    }\n",
       "\n",
       "    .dataframe thead th {\n",
       "        text-align: right;\n",
       "    }\n",
       "</style>\n",
       "<table border=\"1\" class=\"dataframe\">\n",
       "  <thead>\n",
       "    <tr style=\"text-align: right;\">\n",
       "      <th></th>\n",
       "      <th>product_category_name_english</th>\n",
       "      <th>prediction</th>\n",
       "      <th>distance</th>\n",
       "      <th>centroid</th>\n",
       "      <th>survey_score</th>\n",
       "      <th>price</th>\n",
       "      <th>product_photos_qty</th>\n",
       "    </tr>\n",
       "  </thead>\n",
       "  <tbody>\n",
       "    <tr>\n",
       "      <th>0</th>\n",
       "      <td>auto</td>\n",
       "      <td>0</td>\n",
       "      <td>2.218666</td>\n",
       "      <td>[-2.0102972238199524, -0.10391499642692398, -0...</td>\n",
       "      <td>-2.160228</td>\n",
       "      <td>-0.490799</td>\n",
       "      <td>-0.122515</td>\n",
       "    </tr>\n",
       "    <tr>\n",
       "      <th>1</th>\n",
       "      <td>furniture_decor</td>\n",
       "      <td>0</td>\n",
       "      <td>2.315019</td>\n",
       "      <td>[-2.0102972238199524, -0.10391499642692398, -0...</td>\n",
       "      <td>-2.160228</td>\n",
       "      <td>-0.445159</td>\n",
       "      <td>-0.703252</td>\n",
       "    </tr>\n",
       "    <tr>\n",
       "      <th>2</th>\n",
       "      <td>furniture_decor</td>\n",
       "      <td>0</td>\n",
       "      <td>2.315019</td>\n",
       "      <td>[-2.0102972238199524, -0.10391499642692398, -0...</td>\n",
       "      <td>-2.160228</td>\n",
       "      <td>-0.445159</td>\n",
       "      <td>-0.703252</td>\n",
       "    </tr>\n",
       "    <tr>\n",
       "      <th>3</th>\n",
       "      <td>furniture_decor</td>\n",
       "      <td>0</td>\n",
       "      <td>2.308399</td>\n",
       "      <td>[-2.0102972238199524, -0.10391499642692398, -0...</td>\n",
       "      <td>-2.160228</td>\n",
       "      <td>-0.409341</td>\n",
       "      <td>-0.703252</td>\n",
       "    </tr>\n",
       "    <tr>\n",
       "      <th>4</th>\n",
       "      <td>computers_accessories</td>\n",
       "      <td>0</td>\n",
       "      <td>2.243000</td>\n",
       "      <td>[-2.0102972238199524, -0.10391499642692398, -0...</td>\n",
       "      <td>-2.160228</td>\n",
       "      <td>-0.393060</td>\n",
       "      <td>0.458221</td>\n",
       "    </tr>\n",
       "  </tbody>\n",
       "</table>\n",
       "</div>"
      ],
      "text/plain": [
       "  product_category_name_english  prediction  distance  \\\n",
       "0                          auto           0  2.218666   \n",
       "1               furniture_decor           0  2.315019   \n",
       "2               furniture_decor           0  2.315019   \n",
       "3               furniture_decor           0  2.308399   \n",
       "4         computers_accessories           0  2.243000   \n",
       "\n",
       "                                            centroid  survey_score     price  \\\n",
       "0  [-2.0102972238199524, -0.10391499642692398, -0...     -2.160228 -0.490799   \n",
       "1  [-2.0102972238199524, -0.10391499642692398, -0...     -2.160228 -0.445159   \n",
       "2  [-2.0102972238199524, -0.10391499642692398, -0...     -2.160228 -0.445159   \n",
       "3  [-2.0102972238199524, -0.10391499642692398, -0...     -2.160228 -0.409341   \n",
       "4  [-2.0102972238199524, -0.10391499642692398, -0...     -2.160228 -0.393060   \n",
       "\n",
       "   product_photos_qty  \n",
       "0           -0.122515  \n",
       "1           -0.703252  \n",
       "2           -0.703252  \n",
       "3           -0.703252  \n",
       "4            0.458221  "
      ]
     },
     "execution_count": 36,
     "metadata": {},
     "output_type": "execute_result"
    }
   ],
   "source": [
    "keep_columns = ['product_category_name_english', 'prediction', 'distance', 'centroid']\n",
    "\n",
    "train_df_pd = pyspark_to_pandas(train_preds_df, feature_cols, 'features', keep_columns)\n",
    "test_df_pd = pyspark_to_pandas(test_preds_df, feature_cols, 'features', keep_columns)\n",
    "\n",
    "test_df_pd.head()"
   ]
  },
  {
   "cell_type": "code",
   "execution_count": 37,
   "metadata": {},
   "outputs": [
    {
     "name": "stderr",
     "output_type": "stream",
     "text": [
      "/home/jovyan/Desktop/MGTA495/W 10:11 - Final Project/utils.py:66: FutureWarning: 'pandas.tools.plotting.parallel_coordinates' is deprecated, import 'pandas.plotting.parallel_coordinates' instead.\n",
      "  parallel_coordinates(data, 'prediction', color = my_colors, marker='o')\n"
     ]
    },
    {
     "data": {
      "image/png": "[encoded data removed]",
      "text/plain": [
       "<Figure size 1080x576 with 1 Axes>"
      ]
     },
     "metadata": {
      "needs_background": "light"
     },
     "output_type": "display_data"
    }
   ],
   "source": [
    "# adjust the y-axis range to fit our clusters\n",
    "y_min = np.min(centers_df_pd.values.tolist()) - 1\n",
    "y_max = np.max(centers_df_pd.values.tolist()) + 0.5\n",
    "y_lim = [y_min, y_max]\n",
    "\n",
    "cluster_colors = utils.parallel_plot(centers_df_pd, centers_df_pd, ylim=y_lim)"
   ]
  },
  {
   "cell_type": "code",
   "execution_count": 38,
   "metadata": {},
   "outputs": [
    {
     "name": "stdout",
     "output_type": "stream",
     "text": [
      "\n",
      "\n",
      "----- 4231 samples in cluster 0 -----\n"
     ]
    },
    {
     "data": {
      "image/png": "[encoded data removed]",
      "text/plain": [
       "<Figure size 864x360 with 1 Axes>"
      ]
     },
     "metadata": {
      "needs_background": "light"
     },
     "output_type": "display_data"
    },
    {
     "data": {
      "text/plain": [
       "<Figure size 792x288 with 0 Axes>"
      ]
     },
     "metadata": {},
     "output_type": "display_data"
    },
    {
     "name": "stdout",
     "output_type": "stream",
     "text": [
      "\n",
      "\n",
      "----- 12595 samples in cluster 1 -----\n"
     ]
    },
    {
     "data": {
      "image/png": "[encoded data removed]",
      "text/plain": [
       "<Figure size 864x360 with 1 Axes>"
      ]
     },
     "metadata": {
      "needs_background": "light"
     },
     "output_type": "display_data"
    },
    {
     "data": {
      "text/plain": [
       "<Figure size 792x288 with 0 Axes>"
      ]
     },
     "metadata": {},
     "output_type": "display_data"
    },
    {
     "name": "stdout",
     "output_type": "stream",
     "text": [
      "\n",
      "\n",
      "----- 674 samples in cluster 2 -----\n"
     ]
    },
    {
     "data": {
      "image/png": "[encoded data removed]",
      "text/plain": [
       "<Figure size 864x360 with 1 Axes>"
      ]
     },
     "metadata": {
      "needs_background": "light"
     },
     "output_type": "display_data"
    },
    {
     "data": {
      "text/plain": [
       "<Figure size 792x288 with 0 Axes>"
      ]
     },
     "metadata": {},
     "output_type": "display_data"
    },
    {
     "name": "stdout",
     "output_type": "stream",
     "text": [
      "\n",
      "\n",
      "----- 6179 samples in cluster 3 -----\n"
     ]
    },
    {
     "data": {
      "image/png": "[encoded data removed]",
      "text/plain": [
       "<Figure size 864x360 with 1 Axes>"
      ]
     },
     "metadata": {
      "needs_background": "light"
     },
     "output_type": "display_data"
    },
    {
     "data": {
      "text/plain": [
       "<Figure size 792x288 with 0 Axes>"
      ]
     },
     "metadata": {},
     "output_type": "display_data"
    },
    {
     "name": "stdout",
     "output_type": "stream",
     "text": [
      "\n",
      "\n",
      "----- 4543 samples in cluster 4 -----\n"
     ]
    },
    {
     "data": {
      "image/png": "[encoded data removed]",
      "text/plain": [
       "<Figure size 864x360 with 1 Axes>"
      ]
     },
     "metadata": {
      "needs_background": "light"
     },
     "output_type": "display_data"
    },
    {
     "data": {
      "text/plain": [
       "<Figure size 792x288 with 0 Axes>"
      ]
     },
     "metadata": {},
     "output_type": "display_data"
    }
   ],
   "source": [
    "# you may need to change these based on what features you chose\n",
    "analysis_cols = ['price', 'survey_score', 'product_photos_qty'] \n",
    "\n",
    "for cluster_id in range(len(cluster_centers)):\n",
    "\n",
    "    # select samples from within current cluster\n",
    "    within_cluster = test_preds_df.filter(f.col('prediction') == cluster_id)\n",
    "    \n",
    "    # select desired columns for analysis, convert to pandas\n",
    "    within_cluster = within_cluster.select(analysis_cols).toPandas()\n",
    "    \n",
    "    print('\\n\\n----- {} samples in cluster {} -----'.format(len(within_cluster), cluster_id))\n",
    "\n",
    "    # plot the centroid for current cluster\n",
    "    center = centers_df_pd[centers_df_pd['prediction'] == cluster_id]\n",
    "    \n",
    "    utils.parallel_plot(center, centers_df_pd, ylim=y_lim, figsize=(12,5))\n",
    "    plt.figure(figsize=(11,4))\n",
    "    plt.show()"
   ]
  },
  {
   "cell_type": "code",
   "execution_count": 39,
   "metadata": {},
   "outputs": [],
   "source": [
    "spark.stop()"
   ]
  },
  {
   "cell_type": "markdown",
   "metadata": {},
   "source": [
    "### Discussion of Results:\n",
    "1. Based on the elbow plot, we can see 5 clusters would be the most ideal choice because it was the point right before the diminishing return of adding more clusters kicks in.\n",
    "\n",
    "2. Based on the centroid prediction and cluster plot, we can see the biggest cluster is the No.1 cluster in the red line with the highest survey score and normal price level as well as relatively lower picture quantity.\n",
    "\n",
    "3. The smallest cluster is the No. 2 cluster in the green line with the significantly higher price and normal level of survey score and picture quantity.\n",
    "\n",
    "### Actionable Insights:\n",
    "1. If higher-priced products can lead to more profit to the company, it would be recommended to increase the number of higher-priced products (featured in cluster No.2).\n",
    "\n",
    "2. There is a group of obviously lower-rated products featured in cluster No.0 that would be worthy of further investigation with other additional numeric features to make systematic improvements.\n"
   ]
  },
  {
   "cell_type": "code",
   "execution_count": null,
   "metadata": {},
   "outputs": [],
   "source": []
  },
  {
   "cell_type": "code",
   "execution_count": null,
   "metadata": {},
   "outputs": [],
   "source": []
  },
  {
   "cell_type": "code",
   "execution_count": null,
   "metadata": {},
   "outputs": [],
   "source": []
  }
 ],
 "metadata": {
  "kernelspec": {
   "display_name": "Python 3",
   "language": "python",
   "name": "python3"
  },
  "language_info": {
   "codemirror_mode": {
    "name": "ipython",
    "version": 3
   },
   "file_extension": ".py",
   "mimetype": "text/x-python",
   "name": "python",
   "nbconvert_exporter": "python",
   "pygments_lexer": "ipython3",
   "version": "3.6.7"
  }
 },
 "nbformat": 4,
 "nbformat_minor": 2
}
